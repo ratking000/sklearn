{
 "cells": [
  {
   "cell_type": "code",
   "execution_count": 4,
   "id": "1cd0d9ed",
   "metadata": {
    "collapsed": true
   },
   "outputs": [],
   "source": [
    "import pandas as pd\n",
    "\n",
    "pd.options.display.max_rows = None\n",
    "pd.options.display.max_columns = None\n",
    "\n",
    "datafile = \"data/2022-train-v2.xlsx\"\n",
    "data = pd.read_excel(datafile)"
   ]
  },
  {
   "cell_type": "markdown",
   "id": "47423909",
   "metadata": {},
   "source": [
    "Drop missing rows"
   ]
  },
  {
   "cell_type": "code",
   "execution_count": 5,
   "id": "b4c072b7",
   "metadata": {},
   "outputs": [
    {
     "name": "stdout",
     "output_type": "stream",
     "text": [
      "dropped 45% of rows\n"
     ]
    }
   ],
   "source": [
    "data_dropped = data.dropna()\n",
    "rows_dropped_rate = round(100*(data.shape[0]-data_dropped.shape[0])/data.shape[0])\n",
    "print(f\"dropped {rows_dropped_rate}% of rows\")"
   ]
  },
  {
   "cell_type": "markdown",
   "id": "302824cc",
   "metadata": {},
   "source": [
    "Change percent in average for each column"
   ]
  },
  {
   "cell_type": "code",
   "execution_count": 12,
   "id": "5edb5353",
   "metadata": {},
   "outputs": [
    {
     "data": {
      "text/plain": [
       "sensor_point5_i_value     0.039457\n",
       "sensor_point6_i_value    -0.076198\n",
       "sensor_point7_i_value    -0.011918\n",
       "sensor_point8_i_value     0.068721\n",
       "sensor_point9_i_value    -0.028920\n",
       "sensor_point10_i_value    0.000312\n",
       "clean_temp               -0.005607\n",
       "clean_ec                 -0.093485\n",
       "clean_ph4                 0.000000\n",
       "clean_ph5                 0.000000\n",
       "clean_ph7                 0.000000\n",
       "clean_ph8                -0.050964\n",
       "clean_pressure11         -0.036523\n",
       "clean_pressure12          0.031552\n",
       "clean_pressure21         -0.006076\n",
       "clean_pressure22         -0.007897\n",
       "clean_pressure23          0.017089\n",
       "clean_pressure31          0.057186\n",
       "clean_pressure33          0.046982\n",
       "clean_pressure41          0.014830\n",
       "clean_pressure42          0.006677\n",
       "clean_pressure51         -0.001970\n",
       "clean_pressure52          0.001859\n",
       "clean_pressure61         -0.020843\n",
       "clean_pressure62          0.040149\n",
       "clean_pressure71          0.040814\n",
       "clean_pressure72         -0.003250\n",
       "clean_pressure81          0.001538\n",
       "clean_pressure82         -0.000369\n",
       "clean_pressure91          0.000408\n",
       "clean_pressure92          0.001571\n",
       "clean_pressure101        -1.000000\n",
       "clean_pressure102         0.507169\n",
       "oven_pa1                 -0.016438\n",
       "oven_pa2                 -0.001252\n",
       "oven_pb1                 -0.003906\n",
       "oven_pb2                 -0.002895\n",
       "oven_a1                  -0.009143\n",
       "oven_a2                  -0.012264\n",
       "oven_a3                  -0.015397\n",
       "oven_b1                  -0.014447\n",
       "oven_b2                  -0.005957\n",
       "oven_b3                  -0.007368\n",
       "painting_g1_act_a_air     0.418438\n",
       "painting_g1_act_f_air     0.432800\n",
       "painting_g1_act_t_air     0.427152\n",
       "painting_g1_act_hvv       0.410639\n",
       "painting_g1_act_hvc       0.405633\n",
       "painting_g2_act_a_air     0.048391\n",
       "painting_g2_act_f_air     0.056964\n",
       "painting_g2_act_t_air     0.044792\n",
       "painting_g2_act_hvv       0.010899\n",
       "painting_g2_act_hvc       0.105174\n",
       "painting_g3_act_a_air     0.014119\n",
       "painting_g3_act_f_air    -0.124408\n",
       "painting_g3_act_t_air     0.001740\n",
       "painting_g3_act_hvv      -0.061865\n",
       "painting_g3_act_hvc       0.122573\n",
       "painting_g4_act_a_air     0.071405\n",
       "painting_g4_act_f_air     0.077909\n",
       "painting_g4_act_t_air     0.068045\n",
       "painting_g4_act_hvv       0.029328\n",
       "painting_g4_act_hvc       0.176730\n",
       "painting_g5_act_a_air     0.327644\n",
       "painting_g5_act_f_air     0.285823\n",
       "painting_g5_act_t_air     0.323693\n",
       "painting_g5_act_hvv       0.298814\n",
       "painting_g5_act_hvc       0.404467\n",
       "painting_g6_act_a_air    -1.000000\n",
       "painting_g6_act_f_air    -1.000000\n",
       "painting_g6_act_t_air    -1.000000\n",
       "painting_g6_act_hvv      -1.000000\n",
       "painting_g6_act_hvc      -1.000000\n",
       "painting_g7_act_a_air     0.414347\n",
       "painting_g7_act_f_air     0.425710\n",
       "painting_g7_act_t_air     0.426372\n",
       "painting_g7_act_hvv       0.420054\n",
       "painting_g7_act_hvc       0.506715\n",
       "painting_g8_act_a_air     0.051426\n",
       "painting_g8_act_f_air     0.072579\n",
       "painting_g8_act_t_air     0.053127\n",
       "painting_g8_act_hvv       0.030373\n",
       "painting_g8_act_hvc       0.117233\n",
       "painting_g9_act_a_air     0.012081\n",
       "painting_g9_act_f_air    -0.139314\n",
       "painting_g9_act_t_air     0.014244\n",
       "painting_g9_act_hvv      -0.025521\n",
       "painting_g9_act_hvc       0.056370\n",
       "painting_g10_act_a_air    0.079510\n",
       "painting_g10_act_f_air    0.097265\n",
       "painting_g10_act_t_air    0.079823\n",
       "painting_g10_act_hvv      0.073995\n",
       "painting_g10_act_hvc      0.122311\n",
       "painting_g11_act_a_air    0.357535\n",
       "painting_g11_act_f_air    0.389631\n",
       "painting_g11_act_t_air    0.365165\n",
       "painting_g11_act_hvv      0.359941\n",
       "painting_g11_act_hvc      0.361893\n",
       "painting_g12_act_a_air   -1.000000\n",
       "painting_g12_act_f_air   -1.000000\n",
       "painting_g12_act_t_air   -1.000000\n",
       "painting_g12_act_hvv     -1.000000\n",
       "painting_g12_act_hvc     -1.000000\n",
       "env_rpi05_hum            -0.030880\n",
       "env_rpi05_pm1             0.037285\n",
       "env_rpi05_pm10            0.028317\n",
       "env_rpi05_pm25            0.049413\n",
       "env_rpi05_temp            0.040966\n",
       "env_rpi07_hum            -0.036167\n",
       "env_rpi07_pm1             0.158270\n",
       "env_rpi07_pm10            0.178607\n",
       "env_rpi07_pm25            0.186682\n",
       "env_rpi07_temp            0.021985\n",
       "env_rpi09_hum             0.030050\n",
       "env_rpi09_lux             0.819484\n",
       "env_rpi09_pm1             0.686217\n",
       "env_rpi09_pm10            0.695931\n",
       "env_rpi09_pm25            0.694350\n",
       "env_rpi09_temp            0.071398\n",
       "env_rpi14_hum            -0.097810\n",
       "env_rpi14_lux             0.149868\n",
       "env_rpi14_pm1            -0.029776\n",
       "env_rpi14_pm10           -0.003930\n",
       "env_rpi14_pm25           -0.014998\n",
       "env_rpi14_temp           -0.039080\n",
       "env_rpi15_hum            -0.059864\n",
       "env_rpi15_lux             0.478174\n",
       "env_rpi15_pm1             0.061944\n",
       "env_rpi15_pm10            0.103175\n",
       "env_rpi15_pm25            0.080284\n",
       "env_rpi15_temp            0.047354\n",
       "dtype: float64"
      ]
     },
     "metadata": {},
     "output_type": "display_data"
    },
    {
     "data": {
      "image/png": "[encoded data removed]",
      "text/plain": [
       "<Figure size 432x288 with 1 Axes>"
      ]
     },
     "metadata": {
      "needs_background": "light"
     },
     "output_type": "display_data"
    }
   ],
   "source": [
    "dev = (data_dropped.mean() - data.mean()) / data.mean()\n",
    "ax = dev.plot(title='% change in average')\n",
    "ax.set_ylabel('% change')\n",
    "display(dev)"
   ]
  },
  {
   "cell_type": "markdown",
   "id": "3ad73a90",
   "metadata": {},
   "source": [
    "Some columns has -100% change.\n",
    "For these columns, all values = 0 when the columns with missing values have values.\n",
    "The changes are big. We should preserve as rows many as possible."
   ]
  }
 ],
 "metadata": {
  "kernelspec": {
   "display_name": "Python 3 (ipykernel)",
   "language": "python",
   "name": "python3"
  },
  "language_info": {
   "codemirror_mode": {
    "name": "ipython",
    "version": 3
   },
   "file_extension": ".py",
   "mimetype": "text/x-python",
   "name": "python",
   "nbconvert_exporter": "python",
   "pygments_lexer": "ipython3",
   "version": "3.8.13"
  },
  "vscode": {
   "interpreter": {
    "hash": "0123f24c7fa0ca4db3888ba60961425a917466e04c95e8b2c54f9ba6b87b85e7"
   }
  }
 },
 "nbformat": 4,
 "nbformat_minor": 5
}
